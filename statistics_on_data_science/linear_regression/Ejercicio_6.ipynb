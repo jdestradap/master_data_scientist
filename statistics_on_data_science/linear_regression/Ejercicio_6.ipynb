{
  "nbformat": 4,
  "nbformat_minor": 0,
  "metadata": {
    "colab": {
      "name": "Ejercicio 6",
      "version": "0.3.2",
      "provenance": [],
      "collapsed_sections": []
    },
    "kernelspec": {
      "name": "python3",
      "display_name": "Python 3"
    }
  },
  "cells": [
    {
      "metadata": {
        "id": "XZ_mQrnXLGLP",
        "colab_type": "text"
      },
      "cell_type": "markdown",
      "source": [
        " Cargamos las \"ventas\" en una matriz 1 * n\n",
        "\n",
        "En Inv_Prop = cargamos la matriz inversa de  matriz Xsub1 Xsub2 y Xsub3\n"
      ]
    },
    {
      "metadata": {
        "id": "BY_g6c3qZbVb",
        "colab_type": "code",
        "colab": {}
      },
      "cell_type": "code",
      "source": [
        "import numpy as np\n",
        "\n",
        "\n",
        "ventas = np.matrix([2010,\n",
        "1850,\n",
        "2400,\n",
        "1575,\n",
        "3550,\n",
        "2015,\n",
        "3908,\n",
        "1870,\n",
        "4877,\n",
        "2190,\n",
        "5005,\n",
        "2500,\n",
        "3005,\n",
        "3480,\n",
        "5500,\n",
        "1995,\n",
        "2390,\n",
        "4390,\n",
        "2785,\n",
        "2989\n",
        "])\n",
        "\n",
        "Inv_Prop = np.matrix([[1,\n",
        "1,\n",
        "1,\n",
        "1,\n",
        "1,\n",
        "1,\n",
        "1,\n",
        "1,\n",
        "1,\n",
        "1,\n",
        "1,\n",
        "1,\n",
        "1,\n",
        "1,\n",
        "1,\n",
        "1,\n",
        "1,\n",
        "1,\n",
        "1,\n",
        "1\n",
        "],\n",
        "[201,\n",
        "205,\n",
        "355,\n",
        "208,\n",
        "590,\n",
        "397,\n",
        "820,\n",
        "400,\n",
        "997,\n",
        "515,\n",
        "996,\n",
        "625,\n",
        "860,\n",
        "1012,\n",
        "1135,\n",
        "635,\n",
        "837,\n",
        "1200,\n",
        "990,\n",
        "1205],[75,\n",
        "50,\n",
        "75,\n",
        "30,\n",
        "75,\n",
        "50,\n",
        "75,\n",
        "30,\n",
        "75,\n",
        "30,\n",
        "75,\n",
        "50,\n",
        "50,\n",
        "50,\n",
        "75,\n",
        "30,\n",
        "30,\n",
        "50,\n",
        "30,\n",
        "30,\n",
        "]])\n"
      ],
      "execution_count": 0,
      "outputs": []
    },
    {
      "metadata": {
        "id": "7G4ISrI3QWrw",
        "colab_type": "text"
      },
      "cell_type": "markdown",
      "source": [
        "Para trabajar en una matriz n * 1 hacemos las transpuesta de ventas. \n",
        "\n"
      ]
    },
    {
      "metadata": {
        "id": "9q-jNMMGbEmT",
        "colab_type": "code",
        "colab": {}
      },
      "cell_type": "code",
      "source": [
        "Y = np.transpose(ventas)\n",
        "X = np.transpose(Inv_Prop)\n",
        "XT = Inv_Prop\n",
        "\n",
        "XTX = np.matmul(XT,X)\n",
        "inv_XTX = np.linalg.inv(XTX)\n",
        "Prueba_Identidad = np.matmul(XTX,inv_XTX)\n",
        "\n",
        "XTY = np.matmul(XT,Y)\n",
        "\n",
        "Beta_Estimado = np.matmul(inv_XTX, XTY)"
      ],
      "execution_count": 0,
      "outputs": []
    },
    {
      "metadata": {
        "id": "lWSJlCNogJLF",
        "colab_type": "code",
        "outputId": "64cd1bc0-9bbb-40b8-dae0-7d36a143b205",
        "colab": {
          "base_uri": "https://localhost:8080/",
          "height": 34
        }
      },
      "cell_type": "code",
      "source": [
        "np.shape(Y)"
      ],
      "execution_count": 5,
      "outputs": [
        {
          "output_type": "execute_result",
          "data": {
            "text/plain": [
              "(20, 1)"
            ]
          },
          "metadata": {
            "tags": []
          },
          "execution_count": 5
        }
      ]
    },
    {
      "metadata": {
        "id": "FmIFzt4ihPMZ",
        "colab_type": "code",
        "outputId": "9198ce70-d29b-402d-8354-f00689cd591a",
        "colab": {
          "base_uri": "https://localhost:8080/",
          "height": 68
        }
      },
      "cell_type": "code",
      "source": [
        "Beta_Estimado"
      ],
      "execution_count": 6,
      "outputs": [
        {
          "output_type": "execute_result",
          "data": {
            "text/plain": [
              "matrix([[-558.54633021],\n",
              "        [   2.54813599],\n",
              "        [  34.12049648]])"
            ]
          },
          "metadata": {
            "tags": []
          },
          "execution_count": 6
        }
      ]
    },
    {
      "metadata": {
        "id": "IS6vTc6DY-XG",
        "colab_type": "text"
      },
      "cell_type": "markdown",
      "source": [
        "Yg = Estimador de Ventas (Utilizando coeficientes)\n",
        "\n",
        "Eg = Estimador de Error\n",
        "\n",
        "sigma2Eg = Estimador varianza ede los errores\n",
        "\n",
        "numero de datos - numero de dimensión parámetros vecto beta = 17\n",
        "\n",
        "var_Beta_estimada= Varianza de Beta_estimada. La diagonal principal de ésta matriz contiene las varianzas estimadas delos Beta_esimados_sub_i\n",
        "\n",
        "\n"
      ]
    },
    {
      "metadata": {
        "id": "HTCxUdmRU1x_",
        "colab_type": "code",
        "outputId": "0d725537-a55b-4ae0-8f9a-fc932b5c584c",
        "colab": {
          "base_uri": "https://localhost:8080/",
          "height": 68
        }
      },
      "cell_type": "code",
      "source": [
        "Yg = np.matmul(X,Beta_Estimado)\n",
        "\n",
        "Eg = Y-Yg\n",
        "\n",
        "#np.shape(Eg)\n",
        "\n",
        "vector_Eg = np.squeeze(np.asarray(Eg))\n",
        "sigma2Eg = sum(map(lambda x:x*x, vector_Eg))/17\n",
        "\n",
        "#sigma2Eg\n",
        "\n",
        "var_Beta_estimada = inv_XTX * sigma2Eg\n",
        "var_Beta_estimada\n",
        "\n"
      ],
      "execution_count": 7,
      "outputs": [
        {
          "output_type": "execute_result",
          "data": {
            "text/plain": [
              "matrix([[ 9.57981156e+04, -4.60941625e+01, -1.07143145e+03],\n",
              "        [-4.60941625e+01,  6.98191743e-02, -6.60503375e-02],\n",
              "        [-1.07143145e+03, -6.60503375e-02,  2.16091024e+01]])"
            ]
          },
          "metadata": {
            "tags": []
          },
          "execution_count": 7
        }
      ]
    },
    {
      "metadata": {
        "id": "poY_ZZxBlF6T",
        "colab_type": "text"
      },
      "cell_type": "markdown",
      "source": [
        "standar_error_Beta_i = Se llama el error estandar de Beta_estimado_i\n",
        "\n",
        "T = Beta_estimado_i / standar_error_Beta_i => Estadistico de Prueba con t(n-k) grados de libertad.\n"
      ]
    },
    {
      "metadata": {
        "id": "5BdREb5wkVU-",
        "colab_type": "code",
        "outputId": "a8d163c7-d72b-44df-c4da-69e5da39317d",
        "colab": {
          "base_uri": "https://localhost:8080/",
          "height": 34
        }
      },
      "cell_type": "code",
      "source": [
        "Beta_Estimado_to_array = np.squeeze(np.asarray(Beta_Estimado))\n",
        "\n",
        "standar_error_Beta_i = np.diagonal(var_Beta_estimada)**(1/2)\n",
        "\n",
        "T = [a/b for a,b in zip(Beta_Estimado_to_array,standar_error_Beta_i)]\n",
        "\n",
        "T \n"
      ],
      "execution_count": 8,
      "outputs": [
        {
          "output_type": "execute_result",
          "data": {
            "text/plain": [
              "[-1.8045990299781387, 9.643512496189144, 7.3400155134748255]"
            ]
          },
          "metadata": {
            "tags": []
          },
          "execution_count": 8
        }
      ]
    },
    {
      "metadata": {
        "id": "9Pj0hQtARN9X",
        "colab_type": "text"
      },
      "cell_type": "markdown",
      "source": [
        "Ho : Beta_sub_i es  = 0\n",
        "\n",
        "H1: Beta_sub_i es <>  0\n",
        "\n",
        "vc = valor crítico para realizar prueba de hipotesis individual por estimador.\n",
        "\n",
        "Como es two tailed lo que hacemos es utilizar la funcion isf pero pasandole un alfa de 0.025.\n",
        "\n",
        "El valor T se acepta si se encuentra dentro la ragión de aceptación, de lo contrario se rechaza.\n",
        "\n",
        "Segun esto no se puede rechazar B_1 y se rechazan B_2 y B_3\n"
      ]
    },
    {
      "metadata": {
        "id": "HirQGXBT2_9G",
        "colab_type": "code",
        "colab": {
          "base_uri": "https://localhost:8080/",
          "height": 34
        },
        "outputId": "779f5033-1741-4876-c508-a3b56aa80866"
      },
      "cell_type": "code",
      "source": [
        "from scipy.stats import t\n",
        "\n",
        "vc = t.isf(0.025, 17)\n",
        "\n",
        "p_value_1 = (1 - t.sf(-1.8045990299781387, 17))*2\n",
        "\n",
        "p_value_2 = t.sf(9.643512496189144, 17)*2\n",
        "\n",
        "p_value_3 = t.sf(7.3400155134748255, 17)*2\n",
        "\n",
        "v = [p_value_1,p_value_2,p_value_3]\n",
        "v\n",
        "\n",
        "\n",
        "\n"
      ],
      "execution_count": 22,
      "outputs": [
        {
          "output_type": "execute_result",
          "data": {
            "text/plain": [
              "[0.08888265465524414, 2.6288347849181028e-08, 1.1547896016159274e-06]"
            ]
          },
          "metadata": {
            "tags": []
          },
          "execution_count": 22
        }
      ]
    },
    {
      "metadata": {
        "id": "1jELFE0ohK-c",
        "colab_type": "code",
        "colab": {
          "base_uri": "https://localhost:8080/",
          "height": 34
        },
        "outputId": "d4290d53-b799-403a-89df-1ba92b8dffe2"
      },
      "cell_type": "code",
      "source": [
        "Y_array = np.squeeze(np.asarray(Y))\n",
        "Y_b = np.mean(Y_array)\n",
        "SST =  sum(map(lambda x:(x-Y_b)*(x-Y_b), Y_array))\n",
        "Yg_array = np.squeeze(np.asarray(Yg))\n",
        "SSR = sum(map(lambda x:(x-Y_b)*(x-Y_b), Yg_array))\n",
        "\n",
        "SSE = sum(map(lambda x:x*x, vector_Eg))\n",
        "\n",
        "R2 = SSR/SST\n",
        "R2"
      ],
      "execution_count": 43,
      "outputs": [
        {
          "output_type": "execute_result",
          "data": {
            "text/plain": [
              "0.9011247019467392"
            ]
          },
          "metadata": {
            "tags": []
          },
          "execution_count": 43
        }
      ]
    }
  ]
}