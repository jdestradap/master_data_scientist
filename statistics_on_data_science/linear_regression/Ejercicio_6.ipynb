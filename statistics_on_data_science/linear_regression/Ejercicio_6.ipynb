{
  "nbformat": 4,
  "nbformat_minor": 0,
  "metadata": {
    "colab": {
      "name": "Ejercicio 6",
      "version": "0.3.2",
      "provenance": [],
      "collapsed_sections": []
    },
    "kernelspec": {
      "name": "python3",
      "display_name": "Python 3"
    }
  },
  "cells": [
    {
      "metadata": {
        "id": "XZ_mQrnXLGLP",
        "colab_type": "text"
      },
      "cell_type": "markdown",
      "source": [
        "En \"ventas\" Cargamos ventas en una matriz 1 * n\n",
        "\n",
        "En Inv_Prop = cargamos la matriz inversa de  matriz Xsub1 Xsub2 y Xsub3\n"
      ]
    },
    {
      "metadata": {
        "id": "BY_g6c3qZbVb",
        "colab_type": "code",
        "colab": {
          "base_uri": "https://localhost:8080/",
          "height": 34
        },
        "outputId": "7bdccf50-28ed-4b42-86af-4cb21c7e8e22"
      },
      "cell_type": "code",
      "source": [
        "import numpy as np\n",
        "\n",
        "ventas = np.matrix([2010,\n",
        "1850,\n",
        "2400,\n",
        "1575,\n",
        "3550,\n",
        "2015,\n",
        "3908,\n",
        "1870,\n",
        "4877,\n",
        "2190,\n",
        "5005,\n",
        "2500,\n",
        "3005,\n",
        "3480,\n",
        "5500,\n",
        "1995,\n",
        "2390,\n",
        "4390,\n",
        "2785,\n",
        "2989\n",
        "])\n",
        "\n",
        "Inv_Prop = np.matrix([[1,\n",
        "1,\n",
        "1,\n",
        "1,\n",
        "1,\n",
        "1,\n",
        "1,\n",
        "1,\n",
        "1,\n",
        "1,\n",
        "1,\n",
        "1,\n",
        "1,\n",
        "1,\n",
        "1,\n",
        "1,\n",
        "1,\n",
        "1,\n",
        "1,\n",
        "1\n",
        "],\n",
        "[201,\n",
        "205,\n",
        "355,\n",
        "208,\n",
        "590,\n",
        "397,\n",
        "820,\n",
        "400,\n",
        "997,\n",
        "515,\n",
        "996,\n",
        "625,\n",
        "860,\n",
        "1012,\n",
        "1135,\n",
        "635,\n",
        "837,\n",
        "1200,\n",
        "990,\n",
        "1205],[75,\n",
        "50,\n",
        "75,\n",
        "30,\n",
        "75,\n",
        "50,\n",
        "75,\n",
        "30,\n",
        "75,\n",
        "30,\n",
        "75,\n",
        "50,\n",
        "50,\n",
        "50,\n",
        "75,\n",
        "30,\n",
        "30,\n",
        "50,\n",
        "30,\n",
        "30,\n",
        "]])\n"
      ],
      "execution_count": 2,
      "outputs": [
        {
          "output_type": "execute_result",
          "data": {
            "text/plain": [
              "(3, 20)"
            ]
          },
          "metadata": {
            "tags": []
          },
          "execution_count": 2
        }
      ]
    },
    {
      "metadata": {
        "id": "7G4ISrI3QWrw",
        "colab_type": "text"
      },
      "cell_type": "markdown",
      "source": [
        "Para trabajar en una matriz n * 1 hacemos las transpuesta de ventas. \n",
        "\n"
      ]
    },
    {
      "metadata": {
        "id": "9q-jNMMGbEmT",
        "colab_type": "code",
        "colab": {}
      },
      "cell_type": "code",
      "source": [
        "Y = np.transpose(ventas)\n",
        "X = np.transpose(Inv_Prop)\n",
        "XT = Inv_Prop\n",
        "\n",
        "XTX = np.matmul(XT,X)\n",
        "inv_XTX = np.linalg.inv(XTX)\n",
        "Prueba_Identidad = np.matmul(XTX,inv_XTX)\n",
        "\n",
        "XTY = np.matmul(XT,Y)\n",
        "\n",
        "Beta_Estimado = np.matmul(inv_XTX, XTY)"
      ],
      "execution_count": 0,
      "outputs": []
    },
    {
      "metadata": {
        "id": "lWSJlCNogJLF",
        "colab_type": "code",
        "outputId": "f0ffe599-7a5e-4df8-df28-32f97ae2fe2c",
        "colab": {
          "base_uri": "https://localhost:8080/",
          "height": 35
        }
      },
      "cell_type": "code",
      "source": [
        "np.shape(Y)"
      ],
      "execution_count": 0,
      "outputs": [
        {
          "output_type": "execute_result",
          "data": {
            "text/plain": [
              "(20,)"
            ]
          },
          "metadata": {
            "tags": []
          },
          "execution_count": 18
        }
      ]
    },
    {
      "metadata": {
        "id": "FmIFzt4ihPMZ",
        "colab_type": "code",
        "outputId": "9c6f5968-d096-492a-d79c-1c9ba1403a85",
        "colab": {
          "base_uri": "https://localhost:8080/",
          "height": 68
        }
      },
      "cell_type": "code",
      "source": [
        "Beta_Estimado"
      ],
      "execution_count": 6,
      "outputs": [
        {
          "output_type": "execute_result",
          "data": {
            "text/plain": [
              "matrix([[-558.54633021],\n",
              "        [   2.54813599],\n",
              "        [  34.12049648]])"
            ]
          },
          "metadata": {
            "tags": []
          },
          "execution_count": 6
        }
      ]
    },
    {
      "metadata": {
        "id": "IS6vTc6DY-XG",
        "colab_type": "text"
      },
      "cell_type": "markdown",
      "source": [
        "Yg = Estimador de Ventas (Utilizando coeficientes)\n",
        "\n",
        "Eg = Estimador de Error\n",
        "\n",
        "sigma2Eg = Estimador varianza ede los errores\n",
        "\n",
        "numero de datos - numero de dimensión parámetros vecto beta = 17\n",
        "\n",
        "var_Beta_estimada= Varianza de Beta_estimada. La diagonal principal de ésta matriz contiene las varianzas estimadas delos Beta_esimados_sub_i\n",
        "\n",
        "\n"
      ]
    },
    {
      "metadata": {
        "id": "HTCxUdmRU1x_",
        "colab_type": "code",
        "colab": {
          "base_uri": "https://localhost:8080/",
          "height": 68
        },
        "outputId": "67246c55-7919-4cbb-a4fb-2f1543a1cfb9"
      },
      "cell_type": "code",
      "source": [
        "Yg = np.matmul(X,Beta_Estimado)\n",
        "\n",
        "Eg = Y-Yg\n",
        "\n",
        "#np.shape(Eg)\n",
        "\n",
        "vector_Eg = np.squeeze(np.asarray(Eg))\n",
        "sigma2Eg = sum(map(lambda x:x*x, vector_Eg))/17\n",
        "\n",
        "#sigma2Eg\n",
        "\n",
        "var_Beta_estimada = inv_XTX * sigma2Eg\n",
        "var_Beta_estimada\n",
        "\n"
      ],
      "execution_count": 39,
      "outputs": [
        {
          "output_type": "execute_result",
          "data": {
            "text/plain": [
              "matrix([[ 9.57981156e+04, -4.60941625e+01, -1.07143145e+03],\n",
              "        [-4.60941625e+01,  6.98191743e-02, -6.60503375e-02],\n",
              "        [-1.07143145e+03, -6.60503375e-02,  2.16091024e+01]])"
            ]
          },
          "metadata": {
            "tags": []
          },
          "execution_count": 39
        }
      ]
    },
    {
      "metadata": {
        "id": "poY_ZZxBlF6T",
        "colab_type": "text"
      },
      "cell_type": "markdown",
      "source": [
        ""
      ]
    },
    {
      "metadata": {
        "id": "5BdREb5wkVU-",
        "colab_type": "code",
        "colab": {}
      },
      "cell_type": "code",
      "source": [
        ""
      ],
      "execution_count": 0,
      "outputs": []
    }
  ]
}